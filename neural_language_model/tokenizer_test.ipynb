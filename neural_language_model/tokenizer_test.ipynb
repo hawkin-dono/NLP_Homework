{
 "cells": [
  {
   "cell_type": "code",
   "execution_count": 5,
   "metadata": {},
   "outputs": [],
   "source": [
    "import torch \n",
    "import pandas as pd \n",
    "import numpy as np \n",
    "import re"
   ]
  },
  {
   "cell_type": "code",
   "execution_count": 22,
   "metadata": {},
   "outputs": [],
   "source": [
    "class Tokenizer:\n",
    "    def __init__(self, data:pd.DataFrame):\n",
    "        self.vocab, self.word_to_idx, self.idx_to_word = self.create_vocab(data)\n",
    "        \n",
    "    def create_vocab(self, df: pd.DataFrame):\n",
    "        df[\"text\"] = df[\"text\"].apply(self.normalizer)\n",
    "        vocab = set()\n",
    "        for i, row in df.iterrows():\n",
    "            vocab.update(row[\"text\"].split())\n",
    "        vocab = sorted(list(vocab))\n",
    "        vocab.append(\"<pad>\")\n",
    "        vocab.append(\"<unk>\")\n",
    "        \n",
    "        word_to_idx = {word: idx for idx, word in enumerate(vocab)}\n",
    "        idx_to_word = {idx: word for idx, word in enumerate(vocab)}\n",
    "        \n",
    "        return vocab, word_to_idx, idx_to_word\n",
    "    \n",
    "    def get_vocab(self):\n",
    "        return self.vocab\n",
    "    \n",
    "    def normalizer(self, s: str):\n",
    "        s = s.lower()\n",
    "        s = re.sub(r'[^a-z\\s]', '', s)\n",
    "        s = re.sub(r'\\s+', ' ', s)\n",
    "        s = s.strip()\n",
    "        return s\n",
    "    \n",
    "    def encode(self, text:str):\n",
    "        text = self.normalizer(text)\n",
    "        return [self.word_to_idx.get(word, len(self.vocab) - 1)  for word in text.split()]\n",
    "    \n",
    "    def decode(self, idxs):\n",
    "        return \" \".join([self.idx_to_word[idx] for idx in idxs])\n",
    "    \n",
    "        "
   ]
  },
  {
   "cell_type": "code",
   "execution_count": 23,
   "metadata": {},
   "outputs": [],
   "source": [
    "data = pd.DataFrame(data = [\"\"\"A closed-loop controller or feedback controller is a control loop which incorporates feedback, in contrast to an open-loop controller or non-feedback controller. A closed-loop controller uses feedback to control states or outputs of a dynamical system. Its name comes from the information path in the system: process inputs (e.g., voltage applied to an electric motor) have an effect on the process outputs (e.g., speed or torque of the motor), which is measured with sensors and processed by the controller; the result (the control signal) is \"fed back\" as input to the process, closing the loop\"\"\"], columns = [\"text\"])"
   ]
  },
  {
   "cell_type": "code",
   "execution_count": 24,
   "metadata": {},
   "outputs": [
    {
     "data": {
      "text/html": [
       "<div>\n",
       "<style scoped>\n",
       "    .dataframe tbody tr th:only-of-type {\n",
       "        vertical-align: middle;\n",
       "    }\n",
       "\n",
       "    .dataframe tbody tr th {\n",
       "        vertical-align: top;\n",
       "    }\n",
       "\n",
       "    .dataframe thead th {\n",
       "        text-align: right;\n",
       "    }\n",
       "</style>\n",
       "<table border=\"1\" class=\"dataframe\">\n",
       "  <thead>\n",
       "    <tr style=\"text-align: right;\">\n",
       "      <th></th>\n",
       "      <th>text</th>\n",
       "    </tr>\n",
       "  </thead>\n",
       "  <tbody>\n",
       "    <tr>\n",
       "      <th>0</th>\n",
       "      <td>A closed-loop controller or feedback controlle...</td>\n",
       "    </tr>\n",
       "  </tbody>\n",
       "</table>\n",
       "</div>"
      ],
      "text/plain": [
       "                                                text\n",
       "0  A closed-loop controller or feedback controlle..."
      ]
     },
     "execution_count": 24,
     "metadata": {},
     "output_type": "execute_result"
    }
   ],
   "source": [
    "data"
   ]
  },
  {
   "cell_type": "code",
   "execution_count": 25,
   "metadata": {},
   "outputs": [],
   "source": [
    "tokenizer = Tokenizer(data)"
   ]
  },
  {
   "cell_type": "code",
   "execution_count": 26,
   "metadata": {},
   "outputs": [
    {
     "data": {
      "text/plain": [
       "['a',\n",
       " 'an',\n",
       " 'and',\n",
       " 'applied',\n",
       " 'as',\n",
       " 'back',\n",
       " 'by',\n",
       " 'closed',\n",
       " 'closing',\n",
       " 'comes',\n",
       " 'contrast',\n",
       " 'control',\n",
       " 'controller',\n",
       " 'dynamical',\n",
       " 'e',\n",
       " 'effect',\n",
       " 'electric',\n",
       " 'fed',\n",
       " 'feedback',\n",
       " 'from',\n",
       " 'g',\n",
       " 'have',\n",
       " 'in',\n",
       " 'incorporates',\n",
       " 'information',\n",
       " 'input',\n",
       " 'inputs',\n",
       " 'is',\n",
       " 'its',\n",
       " 'loop',\n",
       " 'measured',\n",
       " 'motor',\n",
       " 'name',\n",
       " 'non',\n",
       " 'of',\n",
       " 'on',\n",
       " 'open',\n",
       " 'or',\n",
       " 'outputs',\n",
       " 'path',\n",
       " 'process',\n",
       " 'processed',\n",
       " 'result',\n",
       " 'sensors',\n",
       " 'signal',\n",
       " 'speed',\n",
       " 'states',\n",
       " 'system',\n",
       " 'the',\n",
       " 'to',\n",
       " 'torque',\n",
       " 'uses',\n",
       " 'voltage',\n",
       " 'which',\n",
       " 'with',\n",
       " '<pad>',\n",
       " '<unk>']"
      ]
     },
     "execution_count": 26,
     "metadata": {},
     "output_type": "execute_result"
    }
   ],
   "source": [
    "tokenizer.get_vocab()"
   ]
  },
  {
   "cell_type": "code",
   "execution_count": 27,
   "metadata": {},
   "outputs": [],
   "source": [
    "test_data = \"A closed-loop controller or feedback controller is a control loop which incorporates feedback, in contrast to an open-loop controller or non-feedback controller. A closed-loop controller uses feedback to control states or outputs of a dynamical system. Its name comes from the information path in the system: process inputs (e.g., voltage applied to an electric motor) have an effect on the process outputs (e.g., speed or torque of the motor), which is measured with sensors and processed by the controller; the result (the control signal)\""
   ]
  },
  {
   "cell_type": "code",
   "execution_count": 31,
   "metadata": {},
   "outputs": [
    {
     "name": "stdout",
     "output_type": "stream",
     "text": [
      "[0, 7, 29, 12, 37, 18, 12, 27, 0, 11, 29, 53, 23, 18, 22, 10, 49, 1, 36, 29, 12, 37, 33, 18, 12, 0, 7, 29, 12, 51, 18, 49, 11, 46, 37, 38, 34, 0, 13, 47, 28, 32, 9, 19, 48, 24, 39, 22, 48, 47, 40, 26, 14, 20, 52, 3, 49, 1, 16, 31, 21, 1, 15, 35, 48, 40, 38, 14, 20, 45, 37, 50, 34, 48, 31, 53, 27, 30, 54, 43, 2, 41, 6, 48, 12, 48, 42, 48, 11, 44]\n"
     ]
    }
   ],
   "source": [
    "encoded_test = tokenizer.encode(test_data)\n",
    "print(encoded_test)"
   ]
  },
  {
   "cell_type": "code",
   "execution_count": 32,
   "metadata": {},
   "outputs": [
    {
     "name": "stdout",
     "output_type": "stream",
     "text": [
      "a closed loop controller or feedback controller is a control loop which incorporates feedback in contrast to an open loop controller or non feedback controller a closed loop controller uses feedback to control states or outputs of a dynamical system its name comes from the information path in the system process inputs e g voltage applied to an electric motor have an effect on the process outputs e g speed or torque of the motor which is measured with sensors and processed by the controller the result the control signal\n"
     ]
    }
   ],
   "source": [
    "print(tokenizer.decode(encoded_test))"
   ]
  },
  {
   "cell_type": "code",
   "execution_count": 33,
   "metadata": {},
   "outputs": [
    {
     "name": "stdout",
     "output_type": "stream",
     "text": [
      "[56, 27, 56, 2, 56, 56, 56, 49, 48, 56]\n"
     ]
    }
   ],
   "source": [
    "test_data2 = \"today is sunday and i am going to the market\"\n",
    "encoded_test2 = tokenizer.encode(test_data2)\n",
    "print(encoded_test2)\n"
   ]
  },
  {
   "cell_type": "code",
   "execution_count": 34,
   "metadata": {},
   "outputs": [
    {
     "name": "stdout",
     "output_type": "stream",
     "text": [
      "<unk> is <unk> and <unk> <unk> <unk> to the <unk>\n"
     ]
    }
   ],
   "source": [
    "print(tokenizer.decode(encoded_test2))"
   ]
  },
  {
   "cell_type": "code",
   "execution_count": null,
   "metadata": {},
   "outputs": [],
   "source": []
  }
 ],
 "metadata": {
  "kernelspec": {
   "display_name": "env",
   "language": "python",
   "name": "python3"
  },
  "language_info": {
   "codemirror_mode": {
    "name": "ipython",
    "version": 3
   },
   "file_extension": ".py",
   "mimetype": "text/x-python",
   "name": "python",
   "nbconvert_exporter": "python",
   "pygments_lexer": "ipython3",
   "version": "3.12.2"
  }
 },
 "nbformat": 4,
 "nbformat_minor": 2
}
